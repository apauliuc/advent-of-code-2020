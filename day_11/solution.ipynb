{
 "cells": [
  {
   "cell_type": "code",
   "execution_count": 1,
   "metadata": {},
   "outputs": [],
   "source": [
    "import numpy as np\n",
    "\n",
    "with open('data.txt', 'r') as f:\n",
    "    data = f.read().split('\\n')\n",
    "\n",
    "orig_grid = []\n",
    "\n",
    "for line in data:\n",
    "    seats = ['.'] + list(line) + ['.']\n",
    "    orig_grid.append(seats)\n",
    "    \n",
    "orig_grid.insert(0, ['.' for _ in range(len(orig_grid[0]))])\n",
    "orig_grid.insert(len(orig_grid), ['.' for _ in range(len(orig_grid[0]))])\n",
    "\n",
    "orig_grid = np.stack(orig_grid, axis=0)"
   ]
  },
  {
   "cell_type": "markdown",
   "metadata": {},
   "source": [
    "#### Part 1"
   ]
  },
  {
   "cell_type": "code",
   "execution_count": 2,
   "metadata": {},
   "outputs": [
    {
     "name": "stdout",
     "output_type": "stream",
     "text": [
      "No changes after 71 rounds\n",
      "\n",
      "Occupied seats 2468\n"
     ]
    }
   ],
   "source": [
    "iteration = 0\n",
    "grid = np.copy(orig_grid)\n",
    "while True:\n",
    "    iteration += 1\n",
    "    next_grid = np.copy(grid)\n",
    "    \n",
    "    for i in range(1, len(grid) - 1):\n",
    "        for j in range(1, len(grid) - 1):\n",
    "            if grid[i, j] == 'L' and np.sum(grid[i-1:i+2, j-1:j+2] == '#') == 0:\n",
    "                next_grid[i, j] = '#'\n",
    "            elif grid[i, j] == '#' and np.sum(grid[i-1:i+2, j-1:j+2] == '#') - 1 >= 4:\n",
    "                next_grid[i, j] = 'L'\n",
    "    \n",
    "    if np.all(grid == next_grid):\n",
    "        print(f'No changes after {iteration} rounds\\n')\n",
    "        break\n",
    "    \n",
    "    grid = np.copy(next_grid)\n",
    "\n",
    "print(f'Occupied seats {np.sum(grid == \"#\")}')"
   ]
  },
  {
   "cell_type": "markdown",
   "metadata": {},
   "source": [
    "#### Part 2"
   ]
  },
  {
   "cell_type": "code",
   "execution_count": 3,
   "metadata": {},
   "outputs": [],
   "source": [
    "def occupied_seats_seen(pos_x, pos_y):\n",
    "    count_occupied = 0\n",
    "#     range_x_upper = range(pos_x - 1, 0, -1)\n",
    "    # same row, left side\n",
    "    for idx_y in range(pos_y - 1, 0, -1):\n",
    "        if grid[pos_x, idx_y] == 'L':\n",
    "            break\n",
    "        if grid[pos_x, idx_y] == '#':\n",
    "            count_occupied += 1\n",
    "            break\n",
    "    # same row, right side\n",
    "    for idx_y in range(pos_y + 1, grid.shape[1], +1):\n",
    "        if grid[pos_x, idx_y] == 'L':\n",
    "            break\n",
    "        if grid[pos_x, idx_y] == '#':\n",
    "            count_occupied += 1\n",
    "            break\n",
    "    # same col, upper\n",
    "    for idx_x in range(pos_x - 1, 0, -1):\n",
    "        if grid[idx_x, pos_y] == 'L':\n",
    "            break\n",
    "        if grid[idx_x, pos_y] == '#':\n",
    "            count_occupied += 1\n",
    "            break\n",
    "    # same col, lower\n",
    "    for idx_x in range(pos_x + 1, grid.shape[0], +1):\n",
    "        if grid[idx_x, pos_y] == 'L':\n",
    "            break\n",
    "        if grid[idx_x, pos_y] == '#':\n",
    "            count_occupied += 1\n",
    "            break\n",
    "    \n",
    "    # diag upper-left\n",
    "    idx_x, idx_y = pos_x - 1, pos_y - 1\n",
    "    while idx_x >= 0 and idx_y >= 0:\n",
    "        if grid[idx_x, idx_y] == 'L':\n",
    "            break\n",
    "        if grid[idx_x, idx_y] == '#':\n",
    "            count_occupied += 1\n",
    "            break\n",
    "        idx_x -= 1\n",
    "        idx_y -= 1\n",
    "    # diag upper-right\n",
    "    idx_x, idx_y = pos_x - 1, pos_y + 1\n",
    "    while idx_x >= 0 and idx_y < grid.shape[1]:\n",
    "        if grid[idx_x, idx_y] == 'L':\n",
    "            break\n",
    "        if grid[idx_x, idx_y] == '#':\n",
    "            count_occupied += 1\n",
    "            break\n",
    "        idx_x -= 1\n",
    "        idx_y += 1\n",
    "    # diag lower-left\n",
    "    idx_x, idx_y = pos_x + 1, pos_y - 1\n",
    "    while idx_x < grid.shape[0] and idx_y >= 0:\n",
    "        if grid[idx_x, idx_y] == 'L':\n",
    "            break\n",
    "        if grid[idx_x, idx_y] == '#':\n",
    "            count_occupied += 1\n",
    "            break\n",
    "        idx_x += 1\n",
    "        idx_y -= 1\n",
    "    # diag lower_right\n",
    "    idx_x, idx_y = pos_x + 1, pos_y + 1\n",
    "    while idx_x < grid.shape[0] and idx_y < grid.shape[1]:\n",
    "        if grid[idx_x, idx_y] == 'L':\n",
    "            break\n",
    "        if grid[idx_x, idx_y] == '#':\n",
    "            count_occupied += 1\n",
    "            break\n",
    "        idx_x += 1\n",
    "        idx_y += 1\n",
    "    \n",
    "    return count_occupied"
   ]
  },
  {
   "cell_type": "code",
   "execution_count": 4,
   "metadata": {},
   "outputs": [
    {
     "name": "stdout",
     "output_type": "stream",
     "text": [
      "No changes after 88 rounds\n",
      "\n",
      "Occupied seats 2214\n"
     ]
    }
   ],
   "source": [
    "iteration = 0\n",
    "grid = np.copy(orig_grid)\n",
    "while True:\n",
    "    iteration += 1\n",
    "    next_grid = np.copy(grid)\n",
    "    \n",
    "    for i in range(1, len(grid) - 1):\n",
    "        for j in range(1, len(grid) - 1):\n",
    "            if grid[i, j] == 'L' and occupied_seats_seen(i, j) == 0:\n",
    "                next_grid[i, j] = '#'\n",
    "            elif grid[i, j] == '#' and occupied_seats_seen(i, j) >= 5:\n",
    "                next_grid[i, j] = 'L'\n",
    "    \n",
    "    if np.all(grid == next_grid):\n",
    "        print(f'No changes after {iteration} rounds\\n')\n",
    "        break\n",
    "    \n",
    "    grid = np.copy(next_grid)\n",
    "\n",
    "print(f'Occupied seats {np.sum(grid == \"#\")}')"
   ]
  }
 ],
 "metadata": {
  "kernelspec": {
   "display_name": "Python 3",
   "language": "python",
   "name": "python3"
  },
  "language_info": {
   "codemirror_mode": {
    "name": "ipython",
    "version": 3
   },
   "file_extension": ".py",
   "mimetype": "text/x-python",
   "name": "python",
   "nbconvert_exporter": "python",
   "pygments_lexer": "ipython3",
   "version": "3.7.6"
  }
 },
 "nbformat": 4,
 "nbformat_minor": 4
}
