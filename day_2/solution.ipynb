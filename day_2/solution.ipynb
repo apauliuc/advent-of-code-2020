{
 "cells": [
  {
   "cell_type": "markdown",
   "metadata": {},
   "source": [
    "Part 1"
   ]
  },
  {
   "cell_type": "code",
   "execution_count": 1,
   "metadata": {},
   "outputs": [],
   "source": [
    "import numpy as np\n",
    "\n",
    "with open('data.txt', 'r') as f:\n",
    "    data = [line.strip() for line in f.readlines()]"
   ]
  },
  {
   "cell_type": "code",
   "execution_count": 2,
   "metadata": {},
   "outputs": [
    {
     "name": "stdout",
     "output_type": "stream",
     "text": [
      "Good passwords in database: 414\n"
     ]
    }
   ],
   "source": [
    "good_pwd = 0\n",
    "\n",
    "for line in data:\n",
    "    limits, char, password = line.split(' ')\n",
    "    low, high = np.array(limits.split('-'), dtype=np.int)\n",
    "    char = char[:1]\n",
    "    \n",
    "    char_count = password.count(char)\n",
    "    \n",
    "    if low <= char_count <= high:\n",
    "        good_pwd += 1\n",
    "\n",
    "print(f'Good passwords in database: {good_pwd}')"
   ]
  },
  {
   "cell_type": "markdown",
   "metadata": {},
   "source": [
    "Part 2"
   ]
  },
  {
   "cell_type": "code",
   "execution_count": 3,
   "metadata": {},
   "outputs": [
    {
     "name": "stdout",
     "output_type": "stream",
     "text": [
      "Good passwords in database: 413\n"
     ]
    }
   ],
   "source": [
    "good_pwd = 0\n",
    "\n",
    "for line in data:\n",
    "    positions, char, password = line.split(' ')\n",
    "    pos_1, pos_2 = np.array(positions.split('-'), dtype=np.int)\n",
    "    char = char[:1]\n",
    "    \n",
    "    on_pos_1 = password[pos_1 - 1] == char\n",
    "    on_pos_2 = password[pos_2 - 1] == char\n",
    "    \n",
    "    if (on_pos_1 or on_pos_2) and (on_pos_1 != on_pos_2):\n",
    "        good_pwd += 1\n",
    "\n",
    "print(f'Good passwords in database: {good_pwd}')"
   ]
  }
 ],
 "metadata": {
  "kernelspec": {
   "display_name": "Python 3",
   "language": "python",
   "name": "python3"
  },
  "language_info": {
   "codemirror_mode": {
    "name": "ipython",
    "version": 3
   },
   "file_extension": ".py",
   "mimetype": "text/x-python",
   "name": "python",
   "nbconvert_exporter": "python",
   "pygments_lexer": "ipython3",
   "version": "3.7.6"
  }
 },
 "nbformat": 4,
 "nbformat_minor": 4
}
