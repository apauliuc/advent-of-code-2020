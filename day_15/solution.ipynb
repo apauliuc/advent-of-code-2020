{
 "cells": [
  {
   "cell_type": "markdown",
   "metadata": {},
   "source": [
    "#### Part 1"
   ]
  },
  {
   "cell_type": "code",
   "execution_count": 1,
   "metadata": {},
   "outputs": [],
   "source": [
    "with open('data.txt') as f:\n",
    "    numbers = [int(x) for x in f.read().split(',')]"
   ]
  },
  {
   "cell_type": "code",
   "execution_count": 2,
   "metadata": {},
   "outputs": [
    {
     "name": "stdout",
     "output_type": "stream",
     "text": [
      "1259\n"
     ]
    }
   ],
   "source": [
    "last_spoken = {}\n",
    "\n",
    "for idx, number in enumerate(numbers):\n",
    "    last_spoken[number] = idx\n",
    "\n",
    "limit = 2020\n",
    "while len(numbers) < limit:\n",
    "    idx = len(numbers) - 1\n",
    "    if numbers[idx] not in last_spoken.keys():\n",
    "        numbers.append(0)\n",
    "    else:\n",
    "        numbers.append(idx - last_spoken[numbers[idx]])\n",
    "    \n",
    "    last_spoken[numbers[idx]] = idx\n",
    "\n",
    "print(numbers[-1])"
   ]
  },
  {
   "cell_type": "markdown",
   "metadata": {},
   "source": [
    "#### Part 2"
   ]
  },
  {
   "cell_type": "code",
   "execution_count": 3,
   "metadata": {},
   "outputs": [],
   "source": [
    "with open('data.txt') as f:\n",
    "    numbers = [int(x) for x in f.read().split(',')]"
   ]
  },
  {
   "cell_type": "code",
   "execution_count": 4,
   "metadata": {},
   "outputs": [
    {
     "name": "stdout",
     "output_type": "stream",
     "text": [
      "689\n"
     ]
    }
   ],
   "source": [
    "last_spoken = {}\n",
    "\n",
    "for idx, number in enumerate(numbers):\n",
    "    last_spoken[number] = idx\n",
    "\n",
    "limit = 30000000\n",
    "while len(numbers) < limit:\n",
    "    idx = len(numbers) - 1\n",
    "    if numbers[idx] not in last_spoken.keys():\n",
    "        numbers.append(0)\n",
    "    else:\n",
    "        numbers.append(idx - last_spoken[numbers[idx]])\n",
    "    \n",
    "    last_spoken[numbers[idx]] = idx\n",
    "\n",
    "print(numbers[-1])"
   ]
  }
 ],
 "metadata": {
  "kernelspec": {
   "display_name": "Python 3",
   "language": "python",
   "name": "python3"
  },
  "language_info": {
   "codemirror_mode": {
    "name": "ipython",
    "version": 3
   },
   "file_extension": ".py",
   "mimetype": "text/x-python",
   "name": "python",
   "nbconvert_exporter": "python",
   "pygments_lexer": "ipython3",
   "version": "3.7.6"
  }
 },
 "nbformat": 4,
 "nbformat_minor": 4
}
