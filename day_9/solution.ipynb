{
 "cells": [
  {
   "cell_type": "code",
   "execution_count": 1,
   "metadata": {},
   "outputs": [],
   "source": [
    "import numpy as np\n",
    "\n",
    "with open('data.txt', 'r') as f:\n",
    "    data = [np.int(x) for x in f.read().split('\\n')]"
   ]
  },
  {
   "cell_type": "markdown",
   "metadata": {},
   "source": [
    "#### Part 1"
   ]
  },
  {
   "cell_type": "code",
   "execution_count": 2,
   "metadata": {},
   "outputs": [
    {
     "name": "stdout",
     "output_type": "stream",
     "text": [
      "Number not following property: 22477624\n"
     ]
    }
   ],
   "source": [
    "preamble_len = 25\n",
    "preamble = data[:preamble_len]\n",
    "\n",
    "indices = np.triu_indices(preamble_len, k=1)\n",
    "\n",
    "for idx in range(preamble_len, len(data)):\n",
    "    current_number = data[idx]\n",
    "    \n",
    "    x = np.array(preamble)\n",
    "    summed = x[:, np.newaxis] + x[np.newaxis, :]\n",
    "    \n",
    "    if current_number in summed[indices]:\n",
    "        preamble.pop(0)\n",
    "        preamble.append(current_number)\n",
    "    else:\n",
    "        print(f'Number not following property: {current_number}')\n",
    "        break"
   ]
  },
  {
   "cell_type": "markdown",
   "metadata": {},
   "source": [
    "#### Part 2"
   ]
  },
  {
   "cell_type": "code",
   "execution_count": 3,
   "metadata": {},
   "outputs": [
    {
     "name": "stdout",
     "output_type": "stream",
     "text": [
      "Weakness: 2980044\n"
     ]
    }
   ],
   "source": [
    "target_number = current_number\n",
    "bwd_idx = idx - 1\n",
    "found_range = False\n",
    "\n",
    "while bwd_idx >= 0 and not found_range:\n",
    "    bwd_number = data[bwd_idx]\n",
    "    \n",
    "    if bwd_number < target_number:\n",
    "        current_sum = bwd_number\n",
    "        new_idx = bwd_idx - 1\n",
    "        \n",
    "        while new_idx >= 0:\n",
    "            current_sum += data[new_idx]\n",
    "            \n",
    "            if current_sum > target_number:\n",
    "                break\n",
    "            elif current_sum < target_number:\n",
    "                new_idx -= 1\n",
    "            elif current_sum == target_number:\n",
    "                found_range = True\n",
    "                bwd_idx += 1\n",
    "                break\n",
    "    \n",
    "    bwd_idx -= 1\n",
    "\n",
    "weakness_numbers = data[new_idx:bwd_idx+1]\n",
    "print(f'Weakness: {min(weakness_numbers) + max(weakness_numbers)}')"
   ]
  }
 ],
 "metadata": {
  "kernelspec": {
   "display_name": "Python 3",
   "language": "python",
   "name": "python3"
  },
  "language_info": {
   "codemirror_mode": {
    "name": "ipython",
    "version": 3
   },
   "file_extension": ".py",
   "mimetype": "text/x-python",
   "name": "python",
   "nbconvert_exporter": "python",
   "pygments_lexer": "ipython3",
   "version": "3.7.6"
  }
 },
 "nbformat": 4,
 "nbformat_minor": 4
}
