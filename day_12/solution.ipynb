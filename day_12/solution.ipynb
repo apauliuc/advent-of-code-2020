{
 "cells": [
  {
   "cell_type": "code",
   "execution_count": 1,
   "metadata": {},
   "outputs": [],
   "source": [
    "with open('data.txt') as f:\n",
    "    data = [(x[0], int(x[1:])) for x in f.read().split('\\n')]"
   ]
  },
  {
   "cell_type": "markdown",
   "metadata": {},
   "source": [
    "#### Part 1"
   ]
  },
  {
   "cell_type": "code",
   "execution_count": 2,
   "metadata": {},
   "outputs": [
    {
     "name": "stdout",
     "output_type": "stream",
     "text": [
      "Manhattan distance: 319\n"
     ]
    }
   ],
   "source": [
    "pos_x, pos_y = 0, 0\n",
    "directions = ['E', 'S', 'W', 'N']\n",
    "direction = 'E'\n",
    "\n",
    "for action, value in data:\n",
    "    if action == 'R':\n",
    "        no_rotations = value // 90\n",
    "        direction = directions[(directions.index(direction) + no_rotations) % len(directions)]\n",
    "    elif action == 'L':\n",
    "        no_rotations = value // 90\n",
    "        direction = directions[(directions.index(direction) - no_rotations) % len(directions)]\n",
    "    elif action == 'N' or (action == 'F' and direction == 'N'):\n",
    "        pos_y += value\n",
    "    elif action == 'S' or (action == 'F' and direction == 'S'):\n",
    "        pos_y -= value\n",
    "    elif action == 'E' or (action == 'F' and direction == 'E'):\n",
    "        pos_x += value\n",
    "    elif action == 'W' or (action == 'F' and direction == 'W'):\n",
    "        pos_x -= value\n",
    "\n",
    "print(f'Manhattan distance: {abs(pos_x) + abs(pos_y)}')"
   ]
  },
  {
   "cell_type": "markdown",
   "metadata": {},
   "source": [
    "#### Part 2"
   ]
  },
  {
   "cell_type": "code",
   "execution_count": 3,
   "metadata": {},
   "outputs": [
    {
     "name": "stdout",
     "output_type": "stream",
     "text": [
      "Manhattan distance: 50157\n"
     ]
    }
   ],
   "source": [
    "pos_x_ship, pos_y_ship = 0, 0\n",
    "pos_x_wp, pos_y_wp = 10, 1\n",
    "\n",
    "for action, value in data:\n",
    "    if action in ['R', 'L']:\n",
    "        no_rotations = value // 90\n",
    "        if (action == 'R' and no_rotations == 1) or (action == 'L' and no_rotations == 3):\n",
    "            pos_x_wp, pos_y_wp = pos_y_wp, -pos_x_wp\n",
    "        elif (action == 'R' and no_rotations == 2) or (action == 'L' and no_rotations == 2):\n",
    "            pos_x_wp, pos_y_wp = -pos_x_wp, -pos_y_wp\n",
    "        elif (action == 'R' and no_rotations == 3) or (action == 'L' and no_rotations == 1):\n",
    "            pos_x_wp, pos_y_wp = -pos_y_wp, pos_x_wp\n",
    "    elif action == 'F':\n",
    "        pos_x_ship += value * pos_x_wp\n",
    "        pos_y_ship += value * pos_y_wp\n",
    "    elif action == 'N':\n",
    "        pos_y_wp += value\n",
    "    elif action == 'S':\n",
    "        pos_y_wp -= value\n",
    "    elif action == 'E':\n",
    "        pos_x_wp += value\n",
    "    elif action == 'W':\n",
    "        pos_x_wp -= value\n",
    "\n",
    "print(f'Manhattan distance: {abs(pos_x_ship) + abs(pos_y_ship)}')"
   ]
  }
 ],
 "metadata": {
  "kernelspec": {
   "display_name": "Python 3",
   "language": "python",
   "name": "python3"
  },
  "language_info": {
   "codemirror_mode": {
    "name": "ipython",
    "version": 3
   },
   "file_extension": ".py",
   "mimetype": "text/x-python",
   "name": "python",
   "nbconvert_exporter": "python",
   "pygments_lexer": "ipython3",
   "version": "3.7.6"
  }
 },
 "nbformat": 4,
 "nbformat_minor": 4
}
