{
 "cells": [
  {
   "cell_type": "code",
   "execution_count": 1,
   "metadata": {},
   "outputs": [],
   "source": [
    "import math"
   ]
  },
  {
   "cell_type": "code",
   "execution_count": 2,
   "metadata": {},
   "outputs": [],
   "source": [
    "with open('data.txt', 'r') as f:\n",
    "    data = [l.strip() for l in f.readlines()]"
   ]
  },
  {
   "cell_type": "code",
   "execution_count": 3,
   "metadata": {},
   "outputs": [],
   "source": [
    "def find_value(pass_data, min_val, max_val):\n",
    "    for c in pass_data:\n",
    "        lower_max = min_val + math.floor((max_val - min_val) / 2)\n",
    "        upper_min = lower_max + 1\n",
    "\n",
    "        if c in ['B', 'R']:\n",
    "            min_val = upper_min\n",
    "        elif c in ['F', 'L']:\n",
    "            max_val = lower_max\n",
    "        else:\n",
    "            print(f'Unexpected letter {c}')\n",
    "    \n",
    "    if min_val != max_val:\n",
    "        print('Different: ', min_val, ' ', max_val)\n",
    "    \n",
    "    return min_val"
   ]
  },
  {
   "cell_type": "code",
   "execution_count": 4,
   "metadata": {},
   "outputs": [],
   "source": [
    "def find_seat_id(boarding_pass):\n",
    "    row = find_value(boarding_pass[:7], 0, 127)\n",
    "    col = find_value(boarding_pass[7:], 0, 7)\n",
    "    \n",
    "    return row * 8 + col"
   ]
  },
  {
   "cell_type": "markdown",
   "metadata": {},
   "source": [
    "#### Part 1"
   ]
  },
  {
   "cell_type": "code",
   "execution_count": 5,
   "metadata": {},
   "outputs": [
    {
     "name": "stdout",
     "output_type": "stream",
     "text": [
      "996\n"
     ]
    }
   ],
   "source": [
    "all_seat_ids = []\n",
    "\n",
    "for bpass in data:\n",
    "    all_seat_ids.append(find_seat_id(bpass))\n",
    "\n",
    "print(max(all_seat_ids))"
   ]
  },
  {
   "cell_type": "markdown",
   "metadata": {},
   "source": [
    "#### Part 2"
   ]
  },
  {
   "cell_type": "code",
   "execution_count": 13,
   "metadata": {
    "scrolled": false
   },
   "outputs": [
    {
     "name": "stdout",
     "output_type": "stream",
     "text": [
      "My seat:  671\n"
     ]
    }
   ],
   "source": [
    "print('My seat: ',\n",
    "      list(set(range(min(all_seat_ids), max(all_seat_ids))).difference(set(all_seat_ids)))[0])"
   ]
  }
 ],
 "metadata": {
  "kernelspec": {
   "display_name": "Python 3",
   "language": "python",
   "name": "python3"
  },
  "language_info": {
   "codemirror_mode": {
    "name": "ipython",
    "version": 3
   },
   "file_extension": ".py",
   "mimetype": "text/x-python",
   "name": "python",
   "nbconvert_exporter": "python",
   "pygments_lexer": "ipython3",
   "version": "3.7.6"
  }
 },
 "nbformat": 4,
 "nbformat_minor": 4
}
