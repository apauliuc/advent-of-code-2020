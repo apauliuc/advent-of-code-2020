{
 "cells": [
  {
   "cell_type": "code",
   "execution_count": 1,
   "metadata": {},
   "outputs": [],
   "source": [
    "import numpy as np\n",
    "\n",
    "with open('data.txt') as f:\n",
    "    data = f.read().split('\\n')\n",
    "\n",
    "first_blank = data.index('')\n",
    "rules = data[:first_blank]\n",
    "my_ticket = [int(x) for x in data[first_blank+2:first_blank+3][0].split(',')]\n",
    "nearby_tickets = data[first_blank+5:]"
   ]
  },
  {
   "cell_type": "code",
   "execution_count": 2,
   "metadata": {},
   "outputs": [],
   "source": [
    "rules_dict = {}\n",
    "all_rules = []\n",
    "\n",
    "for rule in rules:\n",
    "    range_list = []\n",
    "    for rrange in rule.split(' ')[-3:]:\n",
    "        if rrange != 'or':\n",
    "            min_v, max_v = rrange.split('-')\n",
    "            range_list.append((int(min_v), int(max_v)))\n",
    "    \n",
    "    rules_dict[rule.split(':')[0]] = range_list\n",
    "    all_rules.extend(range_list)"
   ]
  },
  {
   "cell_type": "markdown",
   "metadata": {},
   "source": [
    "#### Part 1"
   ]
  },
  {
   "cell_type": "code",
   "execution_count": 3,
   "metadata": {},
   "outputs": [
    {
     "name": "stdout",
     "output_type": "stream",
     "text": [
      "Ticket scanning error rate:  28884\n"
     ]
    }
   ],
   "source": [
    "invalid_values = []\n",
    "valid_tickets = []\n",
    "\n",
    "for ticket in nearby_tickets:\n",
    "    ticket_vals = [int(x) for x in ticket.split(',')]\n",
    "    ticket_valid = True\n",
    "    \n",
    "    for value in ticket_vals:\n",
    "        value_invalid = True\n",
    "        for min_v, max_v in all_rules:\n",
    "            if min_v <= value <= max_v:\n",
    "                value_invalid = False\n",
    "                break\n",
    "        \n",
    "        if value_invalid:\n",
    "            invalid_values.append(value)\n",
    "            ticket_valid = False\n",
    "            break\n",
    "    \n",
    "    if ticket_valid:\n",
    "        valid_tickets.append(ticket_vals)\n",
    "\n",
    "print('Ticket scanning error rate: ', sum(invalid_values))"
   ]
  },
  {
   "cell_type": "markdown",
   "metadata": {},
   "source": [
    "#### Part 2"
   ]
  },
  {
   "cell_type": "code",
   "execution_count": 4,
   "metadata": {},
   "outputs": [],
   "source": [
    "tickets_arr = np.stack(valid_tickets)\n",
    "\n",
    "rules_arr = list(rules_dict.keys())\n",
    "rules_found = []\n",
    "cols_matched = []\n",
    "\n",
    "pos_to_rule = {}\n",
    "\n",
    "while len(rules_found) != len(rules_arr):\n",
    "    for col_idx in range(tickets_arr.shape[1]):\n",
    "        if col_idx in cols_matched:\n",
    "            continue\n",
    "        \n",
    "        val_list = tickets_arr[:, col_idx].tolist()\n",
    "        matching_arrays = []\n",
    "\n",
    "        for value in val_list:\n",
    "            matching = np.zeros(len(rules_arr), dtype=np.bool)\n",
    "\n",
    "            for rule_idx, limits in enumerate(rules_dict.values()):\n",
    "                if rule_idx in rules_found:\n",
    "                    continue\n",
    "                \n",
    "                if (limits[0][0] <= value <= limits[0][1]) or (limits[1][0] <= value <= limits[1][1]):\n",
    "                    matching[rule_idx] = True\n",
    "                else:\n",
    "                    matching[rule_idx] = False\n",
    "                \n",
    "            matching_arrays.append(matching)\n",
    "\n",
    "        matching_sum = np.array(matching_arrays).sum(axis=0)\n",
    "\n",
    "        if np.sum(matching_sum == len(valid_tickets)) == 1:\n",
    "            rule_pos = np.argmax(matching_sum)\n",
    "            pos_to_rule[col_idx] = rules_arr[rule_pos]\n",
    "            \n",
    "            rules_found.append(rule_pos)\n",
    "            cols_matched.append(col_idx)"
   ]
  },
  {
   "cell_type": "code",
   "execution_count": 5,
   "metadata": {},
   "outputs": [
    {
     "name": "stdout",
     "output_type": "stream",
     "text": [
      "1001849322119\n"
     ]
    }
   ],
   "source": [
    "departure_multiply = 1\n",
    "for pos, rule in pos_to_rule.items():\n",
    "    if 'departure' in rule:\n",
    "        departure_multiply *= my_ticket[pos]\n",
    "\n",
    "print(departure_multiply)"
   ]
  }
 ],
 "metadata": {
  "kernelspec": {
   "display_name": "Python 3",
   "language": "python",
   "name": "python3"
  },
  "language_info": {
   "codemirror_mode": {
    "name": "ipython",
    "version": 3
   },
   "file_extension": ".py",
   "mimetype": "text/x-python",
   "name": "python",
   "nbconvert_exporter": "python",
   "pygments_lexer": "ipython3",
   "version": "3.7.6"
  }
 },
 "nbformat": 4,
 "nbformat_minor": 4
}
