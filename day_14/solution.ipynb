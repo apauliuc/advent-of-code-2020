{
 "cells": [
  {
   "cell_type": "code",
   "execution_count": 1,
   "metadata": {},
   "outputs": [],
   "source": [
    "import re\n",
    "import numpy as np\n",
    "\n",
    "with open('data.txt') as f:\n",
    "    data = f.read().split('\\n')"
   ]
  },
  {
   "cell_type": "code",
   "execution_count": 2,
   "metadata": {},
   "outputs": [],
   "source": [
    "def sum_values_dict(d_):\n",
    "    s = 0\n",
    "    for _, value in d_.items():\n",
    "        s += value\n",
    "    return s"
   ]
  },
  {
   "cell_type": "markdown",
   "metadata": {},
   "source": [
    "#### Part 1"
   ]
  },
  {
   "cell_type": "code",
   "execution_count": 3,
   "metadata": {},
   "outputs": [
    {
     "name": "stdout",
     "output_type": "stream",
     "text": [
      "Sum:  14839536808842\n"
     ]
    }
   ],
   "source": [
    "memory = {}\n",
    "\n",
    "for line in data:\n",
    "    if 'mask' in line:\n",
    "        bitmask = line.split(' ')[-1]\n",
    "    elif 'mem' in line:\n",
    "        value = np.long(line.split(' ')[-1])\n",
    "        value_bin = list(format(value, '036b'))\n",
    "        for idx, bit in enumerate(bitmask):\n",
    "            if bit == '1':\n",
    "                value_bin[idx] = '1'\n",
    "            elif bit == '0':\n",
    "                value_bin[idx] = '0'\n",
    "        new_value = np.long(''.join(value_bin), 2)\n",
    "        \n",
    "        m_address = np.long(re.search('\\[(.*?)\\]', line).group(1))\n",
    "        \n",
    "        memory[m_address] = new_value\n",
    "\n",
    "print('Sum: ', sum_values_dict(memory))"
   ]
  },
  {
   "cell_type": "markdown",
   "metadata": {},
   "source": [
    "#### Part 2"
   ]
  },
  {
   "cell_type": "code",
   "execution_count": 4,
   "metadata": {},
   "outputs": [],
   "source": [
    "def find_memory_addresses(addr_, idx_=0):\n",
    "    if idx_ == len(addr_):\n",
    "        addresses.append(np.long(''.join(addr_), 2))\n",
    "    else:\n",
    "        if address_bin[idx_] == 'X':\n",
    "            addr_[idx_] = '0'\n",
    "            find_memory_addresses(np.copy(addr_), idx_ + 1)\n",
    "            addr_[idx_] = '1'\n",
    "            find_memory_addresses(np.copy(addr_), idx_ + 1)\n",
    "        else:\n",
    "            find_memory_addresses(np.copy(addr_), idx_ + 1)"
   ]
  },
  {
   "cell_type": "code",
   "execution_count": 5,
   "metadata": {},
   "outputs": [
    {
     "name": "stdout",
     "output_type": "stream",
     "text": [
      "Sum:  4215284199669\n"
     ]
    }
   ],
   "source": [
    "memory = {}\n",
    "\n",
    "for line in data:\n",
    "    if 'mask' in line:\n",
    "        bitmask = line.split(' ')[-1]\n",
    "    elif 'mem' in line:\n",
    "        value = np.long(line.split(' ')[-1])\n",
    "        m_address = np.long(re.search('\\[(.*?)\\]', line).group(1))\n",
    "        \n",
    "        address_bin = list(format(m_address, '036b'))\n",
    "        for idx, bit in enumerate(bitmask):\n",
    "            if bit == '1':\n",
    "                address_bin[idx] = '1'\n",
    "            elif bit == 'X':\n",
    "                address_bin[idx] = 'X'\n",
    "        \n",
    "        addresses = []\n",
    "        find_memory_addresses(np.copy(address_bin))\n",
    "        \n",
    "        for pos_address in addresses:\n",
    "            memory[pos_address] = value\n",
    "\n",
    "print('Sum: ', sum_values_dict(memory))"
   ]
  }
 ],
 "metadata": {
  "kernelspec": {
   "display_name": "Python 3",
   "language": "python",
   "name": "python3"
  },
  "language_info": {
   "codemirror_mode": {
    "name": "ipython",
    "version": 3
   },
   "file_extension": ".py",
   "mimetype": "text/x-python",
   "name": "python",
   "nbconvert_exporter": "python",
   "pygments_lexer": "ipython3",
   "version": "3.7.6"
  }
 },
 "nbformat": 4,
 "nbformat_minor": 4
}
