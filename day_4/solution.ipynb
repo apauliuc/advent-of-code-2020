{
 "cells": [
  {
   "cell_type": "code",
   "execution_count": 1,
   "metadata": {},
   "outputs": [],
   "source": [
    "import numpy as np\n",
    "\n",
    "with open('data.txt', 'r') as f:\n",
    "    data = f.read().split('\\n')"
   ]
  },
  {
   "cell_type": "markdown",
   "metadata": {},
   "source": [
    "#### Part 1"
   ]
  },
  {
   "cell_type": "markdown",
   "metadata": {},
   "source": [
    "<b> Fields: </b>\n",
    "\n",
    "byr (Birth Year)\n",
    "\n",
    "iyr (Issue Year)\n",
    "\n",
    "eyr (Expiration Year)\n",
    "\n",
    "hgt (Height)\n",
    "\n",
    "hcl (Hair Color)\n",
    "\n",
    "ecl (Eye Color)\n",
    "\n",
    "pid (Passport ID)\n",
    "\n",
    "cid (Country ID)  - optional"
   ]
  },
  {
   "cell_type": "code",
   "execution_count": 2,
   "metadata": {},
   "outputs": [],
   "source": [
    "def check_pass(info):\n",
    "    req_fields = ['byr', 'iyr', 'eyr', 'hgt', 'hcl', 'ecl', 'pid']\n",
    "    keys = []\n",
    "    \n",
    "    for key_value in info.split(' '):\n",
    "        key = key_value.split(':')[0]\n",
    "        keys.append(key)\n",
    "        \n",
    "    diff = set(req_fields).difference(set(keys))\n",
    "    \n",
    "    if len(diff) == 0:\n",
    "        return True\n",
    "    else:\n",
    "        return False"
   ]
  },
  {
   "cell_type": "code",
   "execution_count": 3,
   "metadata": {},
   "outputs": [
    {
     "name": "stdout",
     "output_type": "stream",
     "text": [
      "Valid passports: 254\n"
     ]
    }
   ],
   "source": [
    "pass_lines = []\n",
    "counter_valid = 0\n",
    "\n",
    "for idx, line in enumerate(data):\n",
    "    pass_lines.append(line)\n",
    "    if line == '' or idx == len(data) - 1:\n",
    "        pass_data = ' '.join(pass_lines)\n",
    "        if check_pass(pass_data):\n",
    "            counter_valid += 1\n",
    "        pass_lines = []\n",
    "\n",
    "print(f'Valid passports: {counter_valid}')"
   ]
  },
  {
   "cell_type": "markdown",
   "metadata": {},
   "source": [
    "#### Part 2"
   ]
  },
  {
   "cell_type": "markdown",
   "metadata": {},
   "source": [
    "<b> Conditions: </b>\n",
    "\n",
    "byr (Birth Year) - four digits; at least 1920 and at most 2002.\n",
    "\n",
    "iyr (Issue Year) - four digits; at least 2010 and at most 2020.\n",
    "\n",
    "eyr (Expiration Year) - four digits; at least 2020 and at most 2030.\n",
    "\n",
    "hgt (Height) - a number followed by either cm or in:\n",
    "\n",
    "If cm, the number must be at least 150 and at most 193.\n",
    "\n",
    "If in, the number must be at least 59 and at most 76.\n",
    "\n",
    "hcl (Hair Color) - a # followed by exactly six characters 0-9 or a-f.\n",
    "\n",
    "ecl (Eye Color) - exactly one of: amb blu brn gry grn hzl oth.\n",
    "\n",
    "pid (Passport ID) - a nine-digit number, including leading zeroes.\n",
    "\n",
    "cid (Country ID) - ignored, missing or not.\n"
   ]
  },
  {
   "cell_type": "code",
   "execution_count": 4,
   "metadata": {},
   "outputs": [],
   "source": [
    "def check_pass(info):\n",
    "    req_fields = ['byr', 'iyr', 'eyr', 'hgt', 'hcl', 'ecl', 'pid']\n",
    "    good_ecl = ['amb', 'blu', 'brn', 'gry', 'grn', 'hzl', 'oth']\n",
    "    \n",
    "    keys = []\n",
    "    pass_ok = True\n",
    "    \n",
    "    for key_value in info.split(' '):\n",
    "        key, value = key_value.split(':')\n",
    "        keys.append(key)\n",
    "        \n",
    "        if key == 'byr' and not (1920 <= int(value) <= 2002):\n",
    "            pass_ok = False\n",
    "        elif key == 'iyr' and not (2010 <= int(value) <= 2020):\n",
    "            pass_ok = False\n",
    "        elif key == 'eyr' and not (2020 <= int(value) <= 2030):\n",
    "            pass_ok = False\n",
    "        elif key == 'hgt':\n",
    "            if ((not value[-2:] in ['cm', 'in']) or \n",
    "                (value[-2:] == 'cm' and not (150 <= int(value[:-2]) <= 193)) or\n",
    "                (value[-2:] == 'in' and not (59 <= int(value[:-2]) <= 76))):\n",
    "                pass_ok = False\n",
    "        elif key == 'hcl':\n",
    "            if ((not value[0] == '#') or \n",
    "                (not (len(value[1:]) == 6 and np.all([c.isnumeric() or ('a' <= c <= 'f') for c in value[1:]])))):\n",
    "                pass_ok = False\n",
    "        elif key == 'ecl' and not value in good_ecl:\n",
    "            pass_ok = False\n",
    "        elif key == 'pid' and not (len(value) == 9 and value.isdigit()):\n",
    "            pass_ok = False\n",
    "    \n",
    "    diff = set(req_fields).difference(set(keys))\n",
    "    \n",
    "    if len(diff) == 0 and pass_ok:\n",
    "        return True\n",
    "    else:\n",
    "        return False"
   ]
  },
  {
   "cell_type": "code",
   "execution_count": 5,
   "metadata": {},
   "outputs": [
    {
     "name": "stdout",
     "output_type": "stream",
     "text": [
      "Valid passports: 184\n"
     ]
    }
   ],
   "source": [
    "pass_lines = []\n",
    "counter_valid = 0\n",
    "\n",
    "for idx, line in enumerate(data):\n",
    "    pass_lines.append(line)\n",
    "    if line == '' or idx == len(data) - 1:\n",
    "        pass_data = ' '.join(pass_lines).strip()\n",
    "        if check_pass(pass_data):\n",
    "            counter_valid += 1\n",
    "        pass_lines = []\n",
    "\n",
    "print(f'Valid passports: {counter_valid}')"
   ]
  }
 ],
 "metadata": {
  "kernelspec": {
   "display_name": "Python 3",
   "language": "python",
   "name": "python3"
  },
  "language_info": {
   "codemirror_mode": {
    "name": "ipython",
    "version": 3
   },
   "file_extension": ".py",
   "mimetype": "text/x-python",
   "name": "python",
   "nbconvert_exporter": "python",
   "pygments_lexer": "ipython3",
   "version": "3.7.6"
  }
 },
 "nbformat": 4,
 "nbformat_minor": 4
}
