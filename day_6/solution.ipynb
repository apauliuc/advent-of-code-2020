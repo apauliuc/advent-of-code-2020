{
 "cells": [
  {
   "cell_type": "code",
   "execution_count": 1,
   "metadata": {},
   "outputs": [],
   "source": [
    "with open('data.txt', 'r')as f:\n",
    "    data = f.read().split('\\n')\n",
    "data.append('')"
   ]
  },
  {
   "cell_type": "markdown",
   "metadata": {},
   "source": [
    "#### Part 1"
   ]
  },
  {
   "cell_type": "code",
   "execution_count": 2,
   "metadata": {},
   "outputs": [
    {
     "name": "stdout",
     "output_type": "stream",
     "text": [
      "Total questions with anyone having yes: 6273\n"
     ]
    }
   ],
   "source": [
    "group_answers = set()\n",
    "total_sum = 0\n",
    "\n",
    "for line in data:\n",
    "    if line == '':\n",
    "        total_sum += len(group_answers)\n",
    "        group_answers = set()\n",
    "    else:\n",
    "        group_answers.update(line)\n",
    "\n",
    "print(f'Total questions with anyone having yes: {total_sum}')"
   ]
  },
  {
   "cell_type": "markdown",
   "metadata": {},
   "source": [
    "#### Part 2"
   ]
  },
  {
   "cell_type": "code",
   "execution_count": 3,
   "metadata": {},
   "outputs": [
    {
     "name": "stdout",
     "output_type": "stream",
     "text": [
      "Total questions with everyone having yes: 3254\n"
     ]
    }
   ],
   "source": [
    "answers_by_person = []\n",
    "total_sum = 0\n",
    "\n",
    "for line in data:\n",
    "    if line == '':\n",
    "        total_sum += len(set.intersection(*answers_by_person))\n",
    "        answers_by_person = []\n",
    "    else:\n",
    "        answers_by_person.append(set(line))\n",
    "        \n",
    "print(f'Total questions with everyone having yes: {total_sum}')"
   ]
  }
 ],
 "metadata": {
  "kernelspec": {
   "display_name": "Python 3",
   "language": "python",
   "name": "python3"
  },
  "language_info": {
   "codemirror_mode": {
    "name": "ipython",
    "version": 3
   },
   "file_extension": ".py",
   "mimetype": "text/x-python",
   "name": "python",
   "nbconvert_exporter": "python",
   "pygments_lexer": "ipython3",
   "version": "3.7.6"
  }
 },
 "nbformat": 4,
 "nbformat_minor": 4
}
