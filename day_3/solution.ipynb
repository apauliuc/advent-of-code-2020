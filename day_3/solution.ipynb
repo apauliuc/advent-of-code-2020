{
 "cells": [
  {
   "cell_type": "code",
   "execution_count": 1,
   "metadata": {},
   "outputs": [],
   "source": [
    "import numpy as np"
   ]
  },
  {
   "cell_type": "code",
   "execution_count": 2,
   "metadata": {},
   "outputs": [],
   "source": [
    "orig_grid = []\n",
    "\n",
    "with open('data.txt', 'r') as f:\n",
    "    for line_raw in f.readlines():\n",
    "        line = line_raw.strip()\n",
    "        line_arr = np.zeros(len(line), dtype=np.int)\n",
    "        \n",
    "        for idx, char in enumerate(line):\n",
    "            if char == '#':\n",
    "                line_arr[idx] = 1\n",
    "        \n",
    "        orig_grid.append(line_arr)\n",
    "\n",
    "orig_grid = np.array(orig_grid)"
   ]
  },
  {
   "cell_type": "markdown",
   "metadata": {},
   "source": [
    "Part 1"
   ]
  },
  {
   "cell_type": "code",
   "execution_count": 3,
   "metadata": {},
   "outputs": [],
   "source": [
    "def count_trees_encountered(grid, move_right, move_down):\n",
    "    pos = (0, 0)\n",
    "    grid_rows = grid.shape[0]\n",
    "    trees_encountered = 0\n",
    "\n",
    "    while pos[0] < grid_rows:\n",
    "        pos = (pos[0] + move_down, pos[1] + move_right)\n",
    "\n",
    "        if grid_rows <= pos[0]:\n",
    "            break\n",
    "        if grid.shape[1] <= pos[1]:\n",
    "            grid = np.concatenate([grid, grid], axis=1)\n",
    "\n",
    "        if grid[pos] == 1:\n",
    "            trees_encountered += 1\n",
    "    \n",
    "    return trees_encountered"
   ]
  },
  {
   "cell_type": "code",
   "execution_count": 4,
   "metadata": {},
   "outputs": [
    {
     "name": "stdout",
     "output_type": "stream",
     "text": [
      "162\n"
     ]
    }
   ],
   "source": [
    "print(count_trees_encountered(orig_grid, move_right=3, move_down=1))"
   ]
  },
  {
   "cell_type": "markdown",
   "metadata": {},
   "source": [
    "Part 2"
   ]
  },
  {
   "cell_type": "code",
   "execution_count": 5,
   "metadata": {},
   "outputs": [
    {
     "name": "stdout",
     "output_type": "stream",
     "text": [
      "3064612320\n"
     ]
    }
   ],
   "source": [
    "slopes = [(1, 1), (3, 1), (5, 1), (7, 1), (1, 2)]\n",
    "trees = []\n",
    "\n",
    "for slope in slopes:\n",
    "    trees.append(count_trees_encountered(orig_grid, slope[0], slope[1]))\n",
    "\n",
    "print(np.array(trees, dtype=np.int64).prod())"
   ]
  }
 ],
 "metadata": {
  "kernelspec": {
   "display_name": "Python 3",
   "language": "python",
   "name": "python3"
  },
  "language_info": {
   "codemirror_mode": {
    "name": "ipython",
    "version": 3
   },
   "file_extension": ".py",
   "mimetype": "text/x-python",
   "name": "python",
   "nbconvert_exporter": "python",
   "pygments_lexer": "ipython3",
   "version": "3.7.6"
  }
 },
 "nbformat": 4,
 "nbformat_minor": 4
}
