{
 "cells": [
  {
   "cell_type": "code",
   "execution_count": 1,
   "metadata": {},
   "outputs": [],
   "source": [
    "import numpy as np\n",
    "\n",
    "with open('data.txt', 'r') as f:\n",
    "    data = f.read().split('\\n')"
   ]
  },
  {
   "cell_type": "code",
   "execution_count": 2,
   "metadata": {},
   "outputs": [],
   "source": [
    "def run_program():\n",
    "    idx = 0\n",
    "    cmd_visited = np.zeros(len(data), dtype=np.int)\n",
    "    accumulator = 0\n",
    "\n",
    "    while True:\n",
    "        if cmd_visited[idx] == 1:\n",
    "            return False, accumulator\n",
    "\n",
    "        cmd_visited[idx] = 1\n",
    "        instr, value = data[idx].split(' ')\n",
    "        value = int(value)\n",
    "\n",
    "        if instr == 'acc':\n",
    "            accumulator += value\n",
    "            idx += 1\n",
    "        elif instr == 'jmp':\n",
    "            idx += value\n",
    "        else:\n",
    "            idx += 1\n",
    "\n",
    "        if idx == len(data):\n",
    "            return True, accumulator"
   ]
  },
  {
   "cell_type": "markdown",
   "metadata": {},
   "source": [
    "#### Part 1"
   ]
  },
  {
   "cell_type": "code",
   "execution_count": 3,
   "metadata": {},
   "outputs": [
    {
     "name": "stdout",
     "output_type": "stream",
     "text": [
      "Accumulator value: 1867\n"
     ]
    }
   ],
   "source": [
    "_, accumulator_value = run_program()\n",
    "print(f'Accumulator value: {accumulator_value}')"
   ]
  },
  {
   "cell_type": "markdown",
   "metadata": {},
   "source": [
    "#### Part 2"
   ]
  },
  {
   "cell_type": "code",
   "execution_count": 4,
   "metadata": {},
   "outputs": [],
   "source": [
    "def run_program():\n",
    "    idx = 0\n",
    "    cmd_visited = np.zeros(len(data), dtype=np.int)\n",
    "    accumulator = 0\n",
    "\n",
    "    while True:\n",
    "        if cmd_visited[idx] == 1:\n",
    "            return False, accumulator\n",
    "\n",
    "        cmd_visited[idx] = 1\n",
    "        instr, value = data[idx].split(' ')\n",
    "        value = int(value)\n",
    "\n",
    "        if instr == 'acc':\n",
    "            accumulator += value\n",
    "            idx += 1\n",
    "        elif instr == 'jmp':\n",
    "            idx += value\n",
    "        else:\n",
    "            idx += 1\n",
    "\n",
    "        if idx == len(data):\n",
    "            return True, accumulator"
   ]
  },
  {
   "cell_type": "code",
   "execution_count": 5,
   "metadata": {},
   "outputs": [
    {
     "name": "stdout",
     "output_type": "stream",
     "text": [
      "Changed command on index 277.\n",
      "Accumulator value: 1303\n"
     ]
    }
   ],
   "source": [
    "for cmd_idx in range(len(data)):\n",
    "    instr = data[cmd_idx].split(' ')[0]\n",
    "    result = False\n",
    "    if instr == 'nop':\n",
    "        data[cmd_idx] = data[cmd_idx].replace('nop', 'jmp')\n",
    "        result, accumulator_value = run_program()\n",
    "        data[cmd_idx] = data[cmd_idx].replace('jmp', 'nop')\n",
    "    elif instr == 'jmp':\n",
    "        data[cmd_idx] = data[cmd_idx].replace('jmp', 'nop')\n",
    "        result, accumulator_value = run_program()\n",
    "        data[cmd_idx] = data[cmd_idx].replace('nop', 'jmp')\n",
    "    \n",
    "    if result == True:\n",
    "        print(f'Changed command on index {cmd_idx}.\\nAccumulator value: {accumulator_value}')\n",
    "        break"
   ]
  }
 ],
 "metadata": {
  "kernelspec": {
   "display_name": "Python 3",
   "language": "python",
   "name": "python3"
  },
  "language_info": {
   "codemirror_mode": {
    "name": "ipython",
    "version": 3
   },
   "file_extension": ".py",
   "mimetype": "text/x-python",
   "name": "python",
   "nbconvert_exporter": "python",
   "pygments_lexer": "ipython3",
   "version": "3.7.6"
  }
 },
 "nbformat": 4,
 "nbformat_minor": 4
}
