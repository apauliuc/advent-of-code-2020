{
 "cells": [
  {
   "cell_type": "code",
   "execution_count": 1,
   "metadata": {},
   "outputs": [],
   "source": [
    "from collections import defaultdict\n",
    "\n",
    "with open('data.txt', 'r') as f:\n",
    "    data = f.read().split('\\n')"
   ]
  },
  {
   "cell_type": "code",
   "execution_count": 2,
   "metadata": {},
   "outputs": [],
   "source": [
    "color_struct = defaultdict(list)\n",
    "color_struct_inv = defaultdict(list)\n",
    "\n",
    "for line in data:\n",
    "    split = line.split(' ')\n",
    "    main_bag_color = ' '.join(split[:2])\n",
    "    \n",
    "    for idx in range(4, len(split), 4):\n",
    "        if split[idx] == 'no':\n",
    "            continue\n",
    "        \n",
    "        cont_color = ' '.join(split[idx+1:idx+3])\n",
    "        \n",
    "        color_struct[main_bag_color].append((int(split[idx]), cont_color))\n",
    "        color_struct_inv[cont_color].append(main_bag_color)\n",
    "\n",
    "color_struct = dict(color_struct)\n",
    "color_struct_inv = dict(color_struct_inv)"
   ]
  },
  {
   "cell_type": "markdown",
   "metadata": {},
   "source": [
    "#### Part 1"
   ]
  },
  {
   "cell_type": "code",
   "execution_count": 3,
   "metadata": {},
   "outputs": [
    {
     "name": "stdout",
     "output_type": "stream",
     "text": [
      "128\n"
     ]
    }
   ],
   "source": [
    "good_color_set = set()\n",
    "\n",
    "upper_lvl_colors = color_struct_inv['shiny gold']\n",
    "good_color_set.update(upper_lvl_colors)\n",
    "search = True\n",
    "\n",
    "while search:\n",
    "    new_upper_lvl_colors = set()\n",
    "    search = False\n",
    "    \n",
    "    for color in upper_lvl_colors:\n",
    "        if color in color_struct_inv:\n",
    "            search = True\n",
    "            new_upper_lvl_colors.update(color_struct_inv[color])\n",
    "    \n",
    "    upper_lvl_colors = list(new_upper_lvl_colors)\n",
    "    good_color_set.update(upper_lvl_colors)\n",
    "\n",
    "good_color_set = list(good_color_set)\n",
    "\n",
    "print(len(good_color_set))"
   ]
  },
  {
   "cell_type": "markdown",
   "metadata": {},
   "source": [
    "#### Part 2"
   ]
  },
  {
   "cell_type": "code",
   "execution_count": 4,
   "metadata": {},
   "outputs": [],
   "source": [
    "def count_for_color(color):\n",
    "    if color not in color_struct:\n",
    "        return 1\n",
    "    else:\n",
    "        required_bags = 0\n",
    "        for count, incl_color in color_struct[color]:\n",
    "            required_bags += count * count_for_color(incl_color)\n",
    "            if incl_color in color_struct:\n",
    "                required_bags += count\n",
    "        return required_bags"
   ]
  },
  {
   "cell_type": "code",
   "execution_count": 5,
   "metadata": {},
   "outputs": [
    {
     "name": "stdout",
     "output_type": "stream",
     "text": [
      "20189\n"
     ]
    }
   ],
   "source": [
    "print(count_for_color('shiny gold'))"
   ]
  }
 ],
 "metadata": {
  "kernelspec": {
   "display_name": "Python 3",
   "language": "python",
   "name": "python3"
  },
  "language_info": {
   "codemirror_mode": {
    "name": "ipython",
    "version": 3
   },
   "file_extension": ".py",
   "mimetype": "text/x-python",
   "name": "python",
   "nbconvert_exporter": "python",
   "pygments_lexer": "ipython3",
   "version": "3.7.6"
  }
 },
 "nbformat": 4,
 "nbformat_minor": 4
}
